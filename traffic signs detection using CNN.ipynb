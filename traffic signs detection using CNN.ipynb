{
 "cells": [
  {
   "cell_type": "code",
   "execution_count": 1,
   "id": "c8ca4720",
   "metadata": {},
   "outputs": [],
   "source": [
    "import numpy as np \n",
    "import pandas as pd \n",
    "import matplotlib.pyplot as plt\n",
    "import cv2\n",
    "import tensorflow as tf\n",
    "from PIL import Image\n",
    "import os\n",
    "os.chdir('C:/Users/Marouane/Desktop/Master_DSBD/S3/DEEP LEARNING/tps/Traffic signs CNN')\n",
    "from sklearn.model_selection import train_test_split\n",
    "from keras.utils import to_categorical\n",
    "from keras.models import Sequential, load_model\n",
    "from keras.layers import Conv2D, MaxPool2D, Dense, Flatten, Dropout"
   ]
  },
  {
   "cell_type": "markdown",
   "id": "862c23df",
   "metadata": {},
   "source": [
    "# Store data, labels in the list"
   ]
  },
  {
   "cell_type": "code",
   "execution_count": 2,
   "id": "683e4744",
   "metadata": {},
   "outputs": [],
   "source": [
    "data = []\n",
    "labels = []\n",
    "# We have 43 Classes\n",
    "classes = 43\n",
    "cur_path = os.getcwd()"
   ]
  },
  {
   "cell_type": "code",
   "execution_count": 3,
   "id": "fe2e11c0",
   "metadata": {},
   "outputs": [
    {
     "data": {
      "text/plain": [
       "'C:\\\\Users\\\\Marouane\\\\Desktop\\\\Master_DSBD\\\\S3\\\\DEEP LEARNING\\\\tps\\\\Traffic signs CNN'"
      ]
     },
     "execution_count": 3,
     "metadata": {},
     "output_type": "execute_result"
    }
   ],
   "source": [
    "cur_path"
   ]
  },
  {
   "cell_type": "code",
   "execution_count": 4,
   "id": "05bb1db4",
   "metadata": {},
   "outputs": [],
   "source": [
    "for i in range(classes):\n",
    "    path = os.path.join(cur_path,'Train',str(i))\n",
    "    images = os.listdir(path)\n",
    "    for j in images:\n",
    "        try:\n",
    "            image = Image.open(path + '\\\\'+ j)\n",
    "            image = image.resize((30,30))\n",
    "            image = np.array(image)\n",
    "            data.append(image)\n",
    "            labels.append(i)\n",
    "        except Exception as e:\n",
    "            print(e)"
   ]
  },
  {
   "cell_type": "code",
   "execution_count": 5,
   "id": "673c216f",
   "metadata": {},
   "outputs": [],
   "source": [
    "data = np.array(data)\n",
    "labels = np.array(labels)"
   ]
  },
  {
   "cell_type": "code",
   "execution_count": 7,
   "id": "36bbf176",
   "metadata": {},
   "outputs": [],
   "source": [
    "os.mkdir('training')\n",
    "np.save('./training/data',data)\n",
    "np.save('./training/target',labels)"
   ]
  },
  {
   "cell_type": "code",
   "execution_count": 8,
   "id": "88198997",
   "metadata": {},
   "outputs": [],
   "source": [
    "data=np.load('./training/data.npy')\n",
    "labels=np.load('./training/target.npy')"
   ]
  },
  {
   "cell_type": "code",
   "execution_count": 9,
   "id": "f26e897e",
   "metadata": {},
   "outputs": [
    {
     "data": {
      "text/plain": [
       "((39209, 30, 30, 3), (39209,))"
      ]
     },
     "execution_count": 9,
     "metadata": {},
     "output_type": "execute_result"
    }
   ],
   "source": [
    "data.shape, labels.shape"
   ]
  },
  {
   "cell_type": "code",
   "execution_count": 10,
   "id": "528a9642",
   "metadata": {},
   "outputs": [],
   "source": [
    "X_train, X_test, y_train, y_test = train_test_split(data, labels, test_size=0.2, random_state=0)"
   ]
  },
  {
   "cell_type": "code",
   "execution_count": 11,
   "id": "5bbe9795",
   "metadata": {},
   "outputs": [
    {
     "data": {
      "text/plain": [
       "((31367, 30, 30, 3), (7842, 30, 30, 3), (31367,), (7842,))"
      ]
     },
     "execution_count": 11,
     "metadata": {},
     "output_type": "execute_result"
    }
   ],
   "source": [
    "X_train.shape, X_test.shape, y_train.shape, y_test.shape"
   ]
  },
  {
   "cell_type": "code",
   "execution_count": 12,
   "id": "47935898",
   "metadata": {},
   "outputs": [],
   "source": [
    "y_train = to_categorical(y_train, 43)\n",
    "y_test = to_categorical(y_test, 43)"
   ]
  },
  {
   "cell_type": "code",
   "execution_count": 13,
   "id": "e034d357",
   "metadata": {},
   "outputs": [],
   "source": [
    "model = Sequential()\n",
    "model.add(Conv2D(filters=32, kernel_size=(5,5), activation='relu', input_shape=X_train.shape[1:]))\n",
    "model.add(Conv2D(filters=32, kernel_size=(5,5), activation='relu'))\n",
    "model.add(MaxPool2D(pool_size=(2, 2)))\n",
    "model.add(Dropout(rate=0.25))\n",
    "model.add(Conv2D(filters=64, kernel_size=(3, 3), activation='relu'))\n",
    "model.add(Conv2D(filters=64, kernel_size=(3, 3), activation='relu'))\n",
    "model.add(MaxPool2D(pool_size=(2, 2)))\n",
    "model.add(Dropout(rate=0.25))\n",
    "model.add(Flatten())\n",
    "model.add(Dense(256, activation='relu'))\n",
    "model.add(Dropout(rate=0.5))\n",
    "# We have 43 classes that's why we have defined 43 in the dense\n",
    "model.add(Dense(43, activation='softmax'))"
   ]
  },
  {
   "cell_type": "code",
   "execution_count": 14,
   "id": "fc5035d5",
   "metadata": {},
   "outputs": [],
   "source": [
    "model.compile(loss='categorical_crossentropy', optimizer='adam', metrics=['accuracy'])"
   ]
  },
  {
   "cell_type": "code",
   "execution_count": 15,
   "id": "62529460",
   "metadata": {},
   "outputs": [
    {
     "name": "stdout",
     "output_type": "stream",
     "text": [
      "Epoch 1/20\n",
      "981/981 [==============================] - 94s 95ms/step - loss: 1.9558 - accuracy: 0.5007 - val_loss: 0.4787 - val_accuracy: 0.8907\n",
      "Epoch 2/20\n",
      "981/981 [==============================] - 102s 104ms/step - loss: 0.7051 - accuracy: 0.7896 - val_loss: 0.2856 - val_accuracy: 0.9352\n",
      "Epoch 3/20\n",
      "981/981 [==============================] - 108s 110ms/step - loss: 0.4406 - accuracy: 0.8688 - val_loss: 0.1551 - val_accuracy: 0.9589\n",
      "Epoch 4/20\n",
      "981/981 [==============================] - 96s 98ms/step - loss: 0.3283 - accuracy: 0.9058 - val_loss: 0.1406 - val_accuracy: 0.9610\n",
      "Epoch 5/20\n",
      "981/981 [==============================] - 100s 102ms/step - loss: 0.2904 - accuracy: 0.9161 - val_loss: 0.1046 - val_accuracy: 0.9699\n",
      "Epoch 6/20\n",
      "981/981 [==============================] - 97s 99ms/step - loss: 0.2720 - accuracy: 0.9218 - val_loss: 0.0648 - val_accuracy: 0.9838\n",
      "Epoch 7/20\n",
      "981/981 [==============================] - 97s 99ms/step - loss: 0.2470 - accuracy: 0.9316 - val_loss: 0.1073 - val_accuracy: 0.9679\n",
      "Epoch 8/20\n",
      "981/981 [==============================] - 98s 100ms/step - loss: 0.2374 - accuracy: 0.9328 - val_loss: 0.0692 - val_accuracy: 0.9807\n",
      "Epoch 9/20\n",
      "981/981 [==============================] - 97s 99ms/step - loss: 0.2170 - accuracy: 0.9398 - val_loss: 0.0710 - val_accuracy: 0.9805\n",
      "Epoch 10/20\n",
      "981/981 [==============================] - 103s 105ms/step - loss: 0.2252 - accuracy: 0.9396 - val_loss: 0.0790 - val_accuracy: 0.9753\n",
      "Epoch 11/20\n",
      "981/981 [==============================] - 98s 100ms/step - loss: 0.1993 - accuracy: 0.9445 - val_loss: 0.0819 - val_accuracy: 0.9772\n",
      "Epoch 12/20\n",
      "981/981 [==============================] - 104s 106ms/step - loss: 0.2039 - accuracy: 0.9454 - val_loss: 0.0603 - val_accuracy: 0.9862\n",
      "Epoch 13/20\n",
      "981/981 [==============================] - 96s 98ms/step - loss: 0.2039 - accuracy: 0.9466 - val_loss: 0.0539 - val_accuracy: 0.9847\n",
      "Epoch 14/20\n",
      "981/981 [==============================] - 101s 103ms/step - loss: 0.1984 - accuracy: 0.9478 - val_loss: 0.0595 - val_accuracy: 0.9852\n",
      "Epoch 15/20\n",
      "981/981 [==============================] - 96s 97ms/step - loss: 0.2154 - accuracy: 0.9453 - val_loss: 0.0582 - val_accuracy: 0.9843\n",
      "Epoch 16/20\n",
      "981/981 [==============================] - 97s 99ms/step - loss: 0.2070 - accuracy: 0.9461 - val_loss: 0.0602 - val_accuracy: 0.9834\n",
      "Epoch 17/20\n",
      "981/981 [==============================] - 98s 100ms/step - loss: 0.1933 - accuracy: 0.9505 - val_loss: 0.0534 - val_accuracy: 0.9860\n",
      "Epoch 18/20\n",
      "981/981 [==============================] - 96s 98ms/step - loss: 0.2187 - accuracy: 0.9464 - val_loss: 0.0633 - val_accuracy: 0.9842\n",
      "Epoch 19/20\n",
      "981/981 [==============================] - 100s 102ms/step - loss: 0.2106 - accuracy: 0.9492 - val_loss: 0.1145 - val_accuracy: 0.9702\n",
      "Epoch 20/20\n",
      "981/981 [==============================] - 104s 106ms/step - loss: 0.2143 - accuracy: 0.9458 - val_loss: 0.0665 - val_accuracy: 0.9821\n"
     ]
    }
   ],
   "source": [
    "history = model.fit(X_train, y_train, batch_size=32, epochs=20, validation_data=(X_test, y_test))"
   ]
  },
  {
   "cell_type": "code",
   "execution_count": 16,
   "id": "cec52d6b",
   "metadata": {},
   "outputs": [
    {
     "data": {
      "image/png": "[encoded data removed]",
      "text/plain": [
       "<Figure size 432x288 with 1 Axes>"
      ]
     },
     "metadata": {
      "needs_background": "light"
     },
     "output_type": "display_data"
    }
   ],
   "source": [
    "plt.figure(0)\n",
    "plt.plot(history.history['accuracy'], label='training accuracy')\n",
    "plt.plot(history.history['val_accuracy'], label='val accuracy')\n",
    "plt.title('Accuracy')\n",
    "plt.xlabel('epochs')\n",
    "plt.ylabel('accuracy')\n",
    "plt.legend()\n",
    "plt.show()"
   ]
  },
  {
   "cell_type": "code",
   "execution_count": 17,
   "id": "575c46d1",
   "metadata": {},
   "outputs": [
    {
     "data": {
      "image/png": "[encoded data removed]",
      "text/plain": [
       "<Figure size 432x288 with 1 Axes>"
      ]
     },
     "metadata": {
      "needs_background": "light"
     },
     "output_type": "display_data"
    }
   ],
   "source": [
    "# Loss\n",
    "plt.plot(history.history['loss'], label='training loss')\n",
    "plt.plot(history.history['val_loss'], label='val loss')\n",
    "plt.title('Loss')\n",
    "plt.xlabel('epochs')\n",
    "plt.ylabel('loss')\n",
    "plt.legend()\n",
    "plt.show()"
   ]
  },
  {
   "cell_type": "code",
   "execution_count": 18,
   "id": "0bcfaadd",
   "metadata": {},
   "outputs": [],
   "source": [
    "def testing(testcsv):\n",
    "    y_test = pd.read_csv(testcsv)\n",
    "    label = y_test[\"ClassId\"].values\n",
    "    imgs = y_test[\"Path\"].values\n",
    "    data=[]\n",
    "    for img in imgs:\n",
    "        image = Image.open(img)\n",
    "        image = image.resize((30,30))\n",
    "        data.append(np.array(image))\n",
    "    X_test=np.array(data)\n",
    "    return X_test,label"
   ]
  },
  {
   "cell_type": "code",
   "execution_count": 19,
   "id": "35b8cc09",
   "metadata": {},
   "outputs": [],
   "source": [
    "X_test, label = testing('Test.csv')"
   ]
  },
  {
   "cell_type": "code",
   "execution_count": 20,
   "id": "dbce6481",
   "metadata": {},
   "outputs": [
    {
     "data": {
      "text/plain": [
       "array([[[[116, 140, 175],\n",
       "         [116, 138, 171],\n",
       "         [119, 138, 173],\n",
       "         ...,\n",
       "         [102, 119, 150],\n",
       "         [101, 122, 149],\n",
       "         [ 93, 112, 139]],\n",
       "\n",
       "        [[116, 142, 177],\n",
       "         [116, 141, 175],\n",
       "         [117, 141, 174],\n",
       "         ...,\n",
       "         [120, 143, 178],\n",
       "         [122, 144, 176],\n",
       "         [122, 142, 174]],\n",
       "\n",
       "        [[118, 142, 174],\n",
       "         [116, 141, 175],\n",
       "         [114, 140, 172],\n",
       "         ...,\n",
       "         [121, 144, 181],\n",
       "         [122, 144, 180],\n",
       "         [119, 142, 178]],\n",
       "\n",
       "        ...,\n",
       "\n",
       "        [[117, 137, 168],\n",
       "         [115, 135, 165],\n",
       "         [116, 135, 164],\n",
       "         ...,\n",
       "         [116, 138, 170],\n",
       "         [116, 136, 168],\n",
       "         [118, 139, 171]],\n",
       "\n",
       "        [[116, 136, 166],\n",
       "         [115, 134, 167],\n",
       "         [115, 133, 165],\n",
       "         ...,\n",
       "         [114, 135, 168],\n",
       "         [116, 136, 166],\n",
       "         [115, 139, 167]],\n",
       "\n",
       "        [[112, 135, 166],\n",
       "         [111, 134, 165],\n",
       "         [119, 135, 166],\n",
       "         ...,\n",
       "         [115, 137, 166],\n",
       "         [117, 138, 167],\n",
       "         [114, 140, 170]]],\n",
       "\n",
       "\n",
       "       [[[ 62,  72,  61],\n",
       "         [ 89,  81,  63],\n",
       "         [ 94,  82,  65],\n",
       "         ...,\n",
       "         [ 78,  64,  68],\n",
       "         [ 72,  65,  67],\n",
       "         [ 74,  68,  68]],\n",
       "\n",
       "        [[ 64,  72,  60],\n",
       "         [ 97,  83,  65],\n",
       "         [ 97,  81,  63],\n",
       "         ...,\n",
       "         [ 75,  63,  65],\n",
       "         [ 93,  69,  71],\n",
       "         [ 88,  68,  68]],\n",
       "\n",
       "        [[ 59,  71,  60],\n",
       "         [ 91,  83,  66],\n",
       "         [ 95,  81,  63],\n",
       "         ...,\n",
       "         [ 68,  63,  63],\n",
       "         [ 76,  67,  68],\n",
       "         [ 78,  69,  70]],\n",
       "\n",
       "        ...,\n",
       "\n",
       "        [[ 52,  51,  46],\n",
       "         [ 81,  69,  58],\n",
       "         [ 80,  67,  57],\n",
       "         ...,\n",
       "         [ 70,  63,  63],\n",
       "         [ 83,  67,  66],\n",
       "         [ 78,  66,  67]],\n",
       "\n",
       "        [[ 53,  50,  48],\n",
       "         [ 80,  67,  62],\n",
       "         [ 78,  65,  59],\n",
       "         ...,\n",
       "         [ 59,  59,  61],\n",
       "         [ 67,  65,  64],\n",
       "         [ 72,  66,  66]],\n",
       "\n",
       "        [[ 54,  49,  48],\n",
       "         [ 80,  66,  62],\n",
       "         [ 78,  66,  58],\n",
       "         ...,\n",
       "         [ 62,  58,  61],\n",
       "         [ 72,  66,  69],\n",
       "         [ 75,  70,  70]]],\n",
       "\n",
       "\n",
       "       [[[ 52,  40,  38],\n",
       "         [ 51,  39,  37],\n",
       "         [ 50,  38,  37],\n",
       "         ...,\n",
       "         [ 52,  44,  47],\n",
       "         [ 54,  45,  48],\n",
       "         [ 55,  46,  48]],\n",
       "\n",
       "        [[ 60,  45,  42],\n",
       "         [ 59,  45,  41],\n",
       "         [ 57,  44,  40],\n",
       "         ...,\n",
       "         [ 51,  41,  40],\n",
       "         [ 53,  42,  43],\n",
       "         [ 54,  44,  43]],\n",
       "\n",
       "        [[ 68,  50,  46],\n",
       "         [ 66,  51,  46],\n",
       "         [ 68,  50,  46],\n",
       "         ...,\n",
       "         [ 59,  44,  40],\n",
       "         [ 57,  43,  40],\n",
       "         [ 57,  44,  41]],\n",
       "\n",
       "        ...,\n",
       "\n",
       "        [[ 27,  23,  25],\n",
       "         [ 28,  25,  27],\n",
       "         [ 28,  26,  29],\n",
       "         ...,\n",
       "         [ 25,  22,  23],\n",
       "         [ 26,  24,  23],\n",
       "         [ 27,  25,  25]],\n",
       "\n",
       "        [[ 31,  28,  29],\n",
       "         [ 36,  31,  33],\n",
       "         [ 40,  35,  37],\n",
       "         ...,\n",
       "         [ 33,  31,  28],\n",
       "         [ 38,  37,  35],\n",
       "         [ 44,  42,  42]],\n",
       "\n",
       "        [[ 33,  30,  31],\n",
       "         [ 35,  29,  29],\n",
       "         [ 47,  36,  34],\n",
       "         ...,\n",
       "         [ 41,  40,  37],\n",
       "         [ 44,  43,  43],\n",
       "         [ 48,  47,  44]]],\n",
       "\n",
       "\n",
       "       ...,\n",
       "\n",
       "\n",
       "       [[[ 24,  27,  34],\n",
       "         [ 23,  25,  32],\n",
       "         [ 24,  25,  32],\n",
       "         ...,\n",
       "         [ 26,  27,  33],\n",
       "         [ 26,  27,  34],\n",
       "         [ 26,  27,  34]],\n",
       "\n",
       "        [[ 25,  26,  33],\n",
       "         [ 25,  26,  34],\n",
       "         [ 26,  26,  33],\n",
       "         ...,\n",
       "         [ 26,  27,  34],\n",
       "         [ 27,  27,  35],\n",
       "         [ 28,  28,  36]],\n",
       "\n",
       "        [[ 26,  26,  32],\n",
       "         [ 25,  25,  32],\n",
       "         [ 24,  24,  30],\n",
       "         ...,\n",
       "         [ 26,  27,  33],\n",
       "         [ 27,  27,  33],\n",
       "         [ 27,  26,  33]],\n",
       "\n",
       "        ...,\n",
       "\n",
       "        [[ 16,  17,  21],\n",
       "         [ 15,  16,  21],\n",
       "         [ 14,  16,  21],\n",
       "         ...,\n",
       "         [ 19,  21,  29],\n",
       "         [ 21,  23,  33],\n",
       "         [ 19,  21,  30]],\n",
       "\n",
       "        [[ 16,  17,  22],\n",
       "         [ 15,  16,  21],\n",
       "         [ 14,  16,  21],\n",
       "         ...,\n",
       "         [ 19,  21,  30],\n",
       "         [ 20,  22,  32],\n",
       "         [ 19,  22,  32]],\n",
       "\n",
       "        [[ 15,  16,  21],\n",
       "         [ 15,  16,  21],\n",
       "         [ 14,  16,  21],\n",
       "         ...,\n",
       "         [ 18,  21,  30],\n",
       "         [ 19,  22,  32],\n",
       "         [ 18,  22,  31]]],\n",
       "\n",
       "\n",
       "       [[[ 46,  56,  71],\n",
       "         [ 48,  52,  65],\n",
       "         [ 58,  55,  57],\n",
       "         ...,\n",
       "         [ 42,  40,  50],\n",
       "         [ 15,  12,  15],\n",
       "         [  9,   8,  11]],\n",
       "\n",
       "        [[ 61,  69,  84],\n",
       "         [ 63,  61,  76],\n",
       "         [ 61,  59,  67],\n",
       "         ...,\n",
       "         [ 28,  26,  36],\n",
       "         [ 16,  12,  11],\n",
       "         [ 11,   9,  10]],\n",
       "\n",
       "        [[ 67,  75,  94],\n",
       "         [ 71,  79, 100],\n",
       "         [ 70,  78,  96],\n",
       "         ...,\n",
       "         [ 40,  42,  44],\n",
       "         [ 29,  24,  18],\n",
       "         [ 14,   8,   9]],\n",
       "\n",
       "        ...,\n",
       "\n",
       "        [[ 18,  18,  21],\n",
       "         [ 16,  16,  19],\n",
       "         [ 15,  14,  18],\n",
       "         ...,\n",
       "         [ 33,  32,  37],\n",
       "         [ 37,  38,  45],\n",
       "         [ 26,  26,  27]],\n",
       "\n",
       "        [[ 13,  12,  15],\n",
       "         [ 13,  12,  14],\n",
       "         [ 12,  10,  13],\n",
       "         ...,\n",
       "         [ 26,  27,  31],\n",
       "         [ 32,  34,  39],\n",
       "         [ 29,  29,  26]],\n",
       "\n",
       "        [[ 13,  11,  14],\n",
       "         [ 12,  11,  14],\n",
       "         [ 12,  10,  11],\n",
       "         ...,\n",
       "         [ 28,  31,  39],\n",
       "         [ 35,  37,  40],\n",
       "         [ 31,  29,  25]]],\n",
       "\n",
       "\n",
       "       [[[ 10,  10,  13],\n",
       "         [ 10,  10,  13],\n",
       "         [ 10,   9,  12],\n",
       "         ...,\n",
       "         [ 13,  12,  15],\n",
       "         [ 13,  12,  15],\n",
       "         [ 13,  12,  16]],\n",
       "\n",
       "        [[ 12,  11,  14],\n",
       "         [  9,   9,  12],\n",
       "         [  9,   9,  12],\n",
       "         ...,\n",
       "         [ 13,  12,  14],\n",
       "         [ 13,  12,  15],\n",
       "         [ 13,  12,  16]],\n",
       "\n",
       "        [[ 11,   9,  11],\n",
       "         [  9,   8,  11],\n",
       "         [  9,   9,  12],\n",
       "         ...,\n",
       "         [ 13,  12,  14],\n",
       "         [ 13,  12,  15],\n",
       "         [ 13,  12,  16]],\n",
       "\n",
       "        ...,\n",
       "\n",
       "        [[ 11,   9,  13],\n",
       "         [ 10,   9,  12],\n",
       "         [ 11,  10,  13],\n",
       "         ...,\n",
       "         [ 11,  10,  13],\n",
       "         [ 10,   9,  12],\n",
       "         [ 12,  11,  14]],\n",
       "\n",
       "        [[ 11,  10,  14],\n",
       "         [ 11,  10,  14],\n",
       "         [ 11,  10,  14],\n",
       "         ...,\n",
       "         [  9,   9,  12],\n",
       "         [  9,   9,  11],\n",
       "         [ 12,  11,  13]],\n",
       "\n",
       "        [[ 10,  10,  13],\n",
       "         [ 10,   9,  12],\n",
       "         [ 11,   9,  12],\n",
       "         ...,\n",
       "         [ 10,  10,  13],\n",
       "         [  9,  10,  12],\n",
       "         [ 11,  11,  13]]]], dtype=uint8)"
      ]
     },
     "execution_count": 20,
     "metadata": {},
     "output_type": "execute_result"
    }
   ],
   "source": [
    "X_test"
   ]
  },
  {
   "cell_type": "code",
   "execution_count": 21,
   "id": "22f7e7ea",
   "metadata": {},
   "outputs": [
    {
     "name": "stdout",
     "output_type": "stream",
     "text": [
      "395/395 [==============================] - 8s 21ms/step\n"
     ]
    },
    {
     "data": {
      "text/plain": [
       "array([[0.0000000e+00, 1.8919110e-32, 0.0000000e+00, ..., 4.4791149e-27,\n",
       "        8.7124074e-32, 4.8704363e-37],\n",
       "       [1.9711954e-34, 1.0000000e+00, 8.8695544e-23, ..., 1.7957629e-38,\n",
       "        0.0000000e+00, 0.0000000e+00],\n",
       "       [0.0000000e+00, 0.0000000e+00, 0.0000000e+00, ..., 0.0000000e+00,\n",
       "        0.0000000e+00, 0.0000000e+00],\n",
       "       ...,\n",
       "       [4.4086842e-06, 3.4842175e-03, 1.7375483e-03, ..., 6.6383020e-04,\n",
       "        1.4443339e-03, 1.2279238e-03],\n",
       "       [6.8066153e-10, 5.1548750e-06, 1.9166112e-07, ..., 5.6347621e-10,\n",
       "        2.2911703e-20, 9.5049963e-15],\n",
       "       [2.4374481e-14, 4.9286564e-07, 1.0831685e-05, ..., 5.5658900e-09,\n",
       "        2.5750352e-16, 6.0870619e-08]], dtype=float32)"
      ]
     },
     "execution_count": 21,
     "metadata": {},
     "output_type": "execute_result"
    }
   ],
   "source": [
    "Y_pred = model.predict(X_test)\n",
    "Y_pred"
   ]
  },
  {
   "cell_type": "code",
   "execution_count": 22,
   "id": "59013792",
   "metadata": {},
   "outputs": [],
   "source": [
    "from sklearn.metrics import accuracy_score\n",
    "#accuracy_score(label, Y_pred)"
   ]
  },
  {
   "cell_type": "code",
   "execution_count": 28,
   "id": "8e7016a0",
   "metadata": {},
   "outputs": [],
   "source": [
    "model.save(\"./model/TSR.h5\")"
   ]
  },
  {
   "cell_type": "code",
   "execution_count": 24,
   "id": "535e3364",
   "metadata": {},
   "outputs": [],
   "source": [
    "import os\n",
    "os.chdir(r'C:\\Users\\Marouane\\Desktop\\Master_DSBD\\S3\\DEEP LEARNING\\tps\\Traffic signs CNN')\n",
    "from keras.models import load_model\n",
    "model = load_model('./training/TSR.h5')"
   ]
  },
  {
   "cell_type": "code",
   "execution_count": 25,
   "id": "29f416d7",
   "metadata": {},
   "outputs": [],
   "source": [
    "classes = { 0:'Speed limit (20km/h)',\n",
    "            1:'Speed limit (30km/h)', \n",
    "            2:'Speed limit (50km/h)', \n",
    "            3:'Speed limit (60km/h)', \n",
    "            4:'Speed limit (70km/h)', \n",
    "            5:'Speed limit (80km/h)', \n",
    "            6:'End of speed limit (80km/h)', \n",
    "            7:'Speed limit (100km/h)', \n",
    "            8:'Speed limit (120km/h)', \n",
    "            9:'No passing', \n",
    "            10:'No passing veh over 3.5 tons', \n",
    "            11:'Right-of-way at intersection', \n",
    "            12:'Priority road', \n",
    "            13:'Yield', \n",
    "            14:'Stop', \n",
    "            15:'No vehicles', \n",
    "            16:'Veh > 3.5 tons prohibited', \n",
    "            17:'No entry', \n",
    "            18:'General caution', \n",
    "            19:'Dangerous curve left', \n",
    "            20:'Dangerous curve right', \n",
    "            21:'Double curve', \n",
    "            22:'Bumpy road', \n",
    "            23:'Slippery road', \n",
    "            24:'Road narrows on the right', \n",
    "            25:'Road work', \n",
    "            26:'Traffic signals', \n",
    "            27:'Pedestrians', \n",
    "            28:'Children crossing', \n",
    "            29:'Bicycles crossing', \n",
    "            30:'Beware of ice/snow',\n",
    "            31:'Wild animals crossing', \n",
    "            32:'End speed + passing limits', \n",
    "            33:'Turn right ahead', \n",
    "            34:'Turn left ahead', \n",
    "            35:'Ahead only', \n",
    "            36:'Go straight or right', \n",
    "            37:'Go straight or left', \n",
    "            38:'Keep right', \n",
    "            39:'Keep left', \n",
    "            40:'Roundabout mandatory', \n",
    "            41:'End of no passing', \n",
    "            42:'End no passing veh > 3.5 tons' }"
   ]
  },
  {
   "cell_type": "code",
   "execution_count": 26,
   "id": "054f7588",
   "metadata": {},
   "outputs": [],
   "source": [
    "from PIL import Image\n",
    "import numpy as np\n",
    "import matplotlib.pyplot as plt\n",
    "def test_on_img(img):\n",
    "    data=[]\n",
    "    image = Image.open(img)\n",
    "    image = image.resize((30,30))\n",
    "    data.append(np.array(image))\n",
    "    X_test=np.array(data)\n",
    "    Y_pred = model.predict(X_test)\n",
    "    classes = np.argmax(Y_pred, axis=1)\n",
    "    return image,classes"
   ]
  },
  {
   "cell_type": "code",
   "execution_count": 27,
   "id": "e503a99f",
   "metadata": {},
   "outputs": [
    {
     "name": "stdout",
     "output_type": "stream",
     "text": [
      "1/1 [==============================] - 0s 83ms/step\n",
      "Predicted traffic sign is:  Bumpy road\n"
     ]
    },
    {
     "data": {
      "image/png": "[encoded data removed]",
      "text/plain": [
       "<Figure size 432x288 with 1 Axes>"
      ]
     },
     "metadata": {
      "needs_background": "light"
     },
     "output_type": "display_data"
    }
   ],
   "source": [
    "plot,prediction = test_on_img(r'C:\\Users\\Marouane\\Desktop\\Master_DSBD\\S3\\DEEP LEARNING\\tps\\Traffic signs CNN\\Test\\00500.png')\n",
    "s = [str(i) for i in prediction] \n",
    "a = int(\"\".join(s)) \n",
    "print(\"Predicted traffic sign is: \", classes[a])\n",
    "plt.imshow(plot)\n",
    "plt.show()"
   ]
  },
  {
   "cell_type": "code",
   "execution_count": null,
   "id": "b3185ce9",
   "metadata": {},
   "outputs": [],
   "source": []
  },
  {
   "cell_type": "code",
   "execution_count": null,
   "id": "979695d2",
   "metadata": {},
   "outputs": [],
   "source": []
  },
  {
   "cell_type": "code",
   "execution_count": null,
   "id": "f92b8397",
   "metadata": {},
   "outputs": [],
   "source": []
  }
 ],
 "metadata": {
  "kernelspec": {
   "display_name": "Python 3",
   "language": "python",
   "name": "python3"
  },
  "language_info": {
   "codemirror_mode": {
    "name": "ipython",
    "version": 3
   },
   "file_extension": ".py",
   "mimetype": "text/x-python",
   "name": "python",
   "nbconvert_exporter": "python",
   "pygments_lexer": "ipython3",
   "version": "3.8.8"
  }
 },
 "nbformat": 4,
 "nbformat_minor": 5
}
